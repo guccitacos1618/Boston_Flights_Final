{
 "cells": [
  {
   "cell_type": "code",
   "execution_count": 2,
   "id": "85d2e1b1-87e5-4c49-ab1d-2190eb8ae0be",
   "metadata": {},
   "outputs": [],
   "source": [
    "import altair as alt\n",
    "import pandas as pd\n",
    "\n",
    "flights = pd.read_csv('boston_flights.csv') \n",
    "\n",
    "chart = alt.Chart(flights).mark_boxplot().encode(\n",
    "    alt.Y('fare:Q'),\n",
    "    alt.X('carrier_name:N'),\n",
    ").facet(\n",
    "    facet='Year:N',\n",
    "    columns=2\n",
    ")\n",
    "\n",
    "chart.save('boston_flights_fare_boxplot.json')"
   ]
  },
  {
   "cell_type": "code",
   "execution_count": 3,
   "id": "6b8741f1-26bd-43e0-a4a9-9be5674afdfc",
   "metadata": {},
   "outputs": [],
   "source": [
    "input_cities = alt.binding_radio(\n",
    "    options=[\n",
    "        \"Los Angeles, CA (Metropolitan Area)\", \"Washington, DC (Metropolitan Area)\", \n",
    "        \"Houston, TX\", \"Chicago, IL\", \"Philadelphia, PA\", \n",
    "        \"Miami, FL (Metropolitan Area)\", \"New York City, NY (Metropolitan Area)\", \"Minneapolis/St. Paul, MN\",\n",
    "        \"Cleveland, OH (Metropolitan Area)\", \"Dallas/Fort Worth, TX\", \"Las Vegas, NV\", \"Charlotte, NC\",\n",
    "        \"Detroit, MI\", None\n",
    "    ],\n",
    "    name=\"Destination Cities:\"\n",
    ")\n",
    "selection = alt.selection_point(fields=['city2'], bind=input_cities)\n",
    "\n",
    "chart1 = alt.Chart(flights).mark_circle().encode(\n",
    "    alt.X('large_ms:Q'),\n",
    "    alt.Y('fare_lg:Q'),\n",
    "    color=alt.condition(\n",
    "        selection, \n",
    "        alt.Color('carrier_name:N', scale=alt.Scale(scheme='magma')), \n",
    "        alt.value('lightgrey')\n",
    "    ),\n",
    "    opacity=alt.condition(selection, alt.value(1), alt.value(0.1)),\n",
    "    tooltip=['carrier_name:N', 'fare_lg:Q', 'large_ms:Q']\n",
    ").facet(\n",
    "    facet='Year:N',\n",
    "    columns=2\n",
    ").add_params(selection).transform_filter(selection).properties(\n",
    "    title='Scatter Plot of Market Share vs. Fare by Carrier and Destination City'\n",
    ")\n",
    "\n",
    "chart1.save('boston_flights_cities_fare_updated.json')"
   ]
  },
  {
   "cell_type": "code",
   "execution_count": 21,
   "id": "dd822ca5-7ede-4fe6-9cac-3e31053e55d8",
   "metadata": {},
   "outputs": [],
   "source": [
    "chart2 = alt.Chart(flights).mark_circle().encode(\n",
    "    alt.X('nsmiles:Q'),\n",
    "    alt.Y('passengers:Q'),\n",
    "    alt.Color(\n",
    "        'fare:Q', \n",
    "        scale=alt.Scale(scheme='viridis'), \n",
    "        legend=alt.Legend(title=\"Fare\")\n",
    "    )\n",
    ")\n",
    "\n",
    "selection = alt.selection_interval()\n",
    "\n",
    "point = chart2.add_params(selection).properties(\n",
    "    title = 'Bar Chart of Count of Flights to Corresponding Cities',\n",
    "    width = 600,  \n",
    "    height = 300\n",
    ")\n",
    "\n",
    "bar = alt.Chart(flights).mark_bar().encode(\n",
    "    alt.X('city2:N'),\n",
    "    alt.Y('count()')\n",
    ").transform_filter(\n",
    "    selection\n",
    ").properties(\n",
    "    title = 'Bar Chart of Count of Flights to Corresponding Cities',\n",
    "    width = 600,  \n",
    "    height = 300\n",
    ")\n",
    "\n",
    "combined_chart = bar & point\n",
    "\n",
    "combined_chart.save('boston_flights_distance_passenger_chart5.json')"
   ]
  },
  {
   "cell_type": "code",
   "execution_count": null,
   "id": "b26cdc72-c775-4a60-930c-8cbaf4780f42",
   "metadata": {},
   "outputs": [],
   "source": []
  }
 ],
 "metadata": {
  "kernelspec": {
   "display_name": "Python 3 (ipykernel)",
   "language": "python",
   "name": "python3"
  },
  "language_info": {
   "codemirror_mode": {
    "name": "ipython",
    "version": 3
   },
   "file_extension": ".py",
   "mimetype": "text/x-python",
   "name": "python",
   "nbconvert_exporter": "python",
   "pygments_lexer": "ipython3",
   "version": "3.11.10"
  }
 },
 "nbformat": 4,
 "nbformat_minor": 5
}
